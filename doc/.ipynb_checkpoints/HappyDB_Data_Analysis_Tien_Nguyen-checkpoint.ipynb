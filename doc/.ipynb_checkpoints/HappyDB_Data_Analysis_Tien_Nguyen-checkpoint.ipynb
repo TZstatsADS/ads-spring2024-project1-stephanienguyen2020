{
 "cells": [
  {
   "cell_type": "markdown",
   "id": "bbe03eaf",
   "metadata": {},
   "source": [
    "# Applied Data Science @ Columbia"
   ]
  },
  {
   "cell_type": "markdown",
   "id": "25486d79",
   "metadata": {},
   "source": [
    "## Project 1: What made you happy today?\n"
   ]
  },
  {
   "cell_type": "markdown",
   "id": "c8d61d51",
   "metadata": {},
   "source": [
    "### Project Description\n",
    "- Project title: Childfree Life - What Brings Happiness to Married Couples Without Children in America?\n",
    "- Author: Tien Nguyen - tn2510\n",
    "- Project Summary: \n",
    "In contemporary America, the choice to lead a childfree life is increasingly prevalent. This project delves into the intricacies of happiness among married couples who have consciously opted out of parenthood. Through comprehensive research and interviews, several key inquiries were addressed to illuminate the facets of their contentment and fulfillment.\n",
    "\n",
    "+ Key Questions Explored:\n",
    "\n",
    "1. Do they ever want children? Do they regret not having a child? Why do they not want children?\n",
    "\n",
    "Understanding the motivations behind choosing a childfree lifestyle is fundamental. By delving into their desires, regrets, and reasons for opting out of parenthood, we unravel the intricate tapestry of their decision-making process.\n",
    "\n",
    "2. What personal achievements or career milestones are most commonly associated with happiness among married women without children?\n",
    "\n",
    "Exploring the professional and personal accomplishments that contribute to their sense of fulfillment provides insights into alternative sources of joy and satisfaction beyond traditional family dynamics.\n",
    "\n",
    "3. How do leisure activities and hobbies contribute to their sense of joy and fulfillment?\n",
    "\n",
    "Investigating the role of leisure pursuits and hobbies sheds light on the diverse avenues through which individuals cultivate happiness and enrich their lives outside the realm of parenting."
   ]
  },
  {
   "cell_type": "markdown",
   "id": "5f25b1a3",
   "metadata": {},
   "source": [
    "### Import Necessary Packages"
   ]
  },
  {
   "cell_type": "code",
   "execution_count": 1,
   "id": "91d1d6e7",
   "metadata": {},
   "outputs": [
    {
     "name": "stderr",
     "output_type": "stream",
     "text": [
      "[nltk_data] Downloading package punkt to /Users/stephanie/nltk_data...\n",
      "[nltk_data]   Package punkt is already up-to-date!\n",
      "[nltk_data] Downloading package stopwords to\n",
      "[nltk_data]     /Users/stephanie/nltk_data...\n",
      "[nltk_data]   Package stopwords is already up-to-date!\n",
      "[nltk_data] Downloading package wordnet to\n",
      "[nltk_data]     /Users/stephanie/nltk_data...\n",
      "[nltk_data]   Package wordnet is already up-to-date!\n"
     ]
    }
   ],
   "source": [
    "import matplotlib.pyplot as plt\n",
    "import numpy as np\n",
    "import seaborn as sns\n",
    "import pandas as pd\n",
    "import plotly.express as p\n",
    "import warnings \n",
    "warnings.filterwarnings('ignore')\n",
    "\n",
    "\n",
    "import nltk\n",
    "from nltk.sentiment.vader import SentimentIntensityAnalyzer\n",
    "from nltk.corpus import stopwords\n",
    "from nltk.tokenize import word_tokenize\n",
    "from nltk.stem import WordNetLemmatizer\n",
    "\n",
    "\n",
    "# download nltk corpus (first time only)\n",
    "# nltk.download('all')\n",
    "# Download necessary NLTK data\n",
    "nltk.download('punkt')\n",
    "nltk.download('stopwords')\n",
    "nltk.download('wordnet')\n",
    "\n",
    "from gensim.parsing.preprocessing import remove_stopwords, strip_numeric, strip_punctuation, strip_short\n",
    "from wordcloud import WordCloud\n",
    "\n",
    "import spacy"
   ]
  },
  {
   "cell_type": "markdown",
   "id": "8679cf15",
   "metadata": {},
   "source": [
    "### Import Datasets"
   ]
  },
  {
   "cell_type": "markdown",
   "id": "da676b19",
   "metadata": {},
   "source": [
    "1. Main Datasets"
   ]
  },
  {
   "cell_type": "code",
   "execution_count": 2,
   "id": "2224f506",
   "metadata": {},
   "outputs": [
    {
     "data": {
      "text/html": [
       "<div>\n",
       "<style scoped>\n",
       "    .dataframe tbody tr th:only-of-type {\n",
       "        vertical-align: middle;\n",
       "    }\n",
       "\n",
       "    .dataframe tbody tr th {\n",
       "        vertical-align: top;\n",
       "    }\n",
       "\n",
       "    .dataframe thead th {\n",
       "        text-align: right;\n",
       "    }\n",
       "</style>\n",
       "<table border=\"1\" class=\"dataframe\">\n",
       "  <thead>\n",
       "    <tr style=\"text-align: right;\">\n",
       "      <th></th>\n",
       "      <th>hmid</th>\n",
       "      <th>wid</th>\n",
       "      <th>reflection_period</th>\n",
       "      <th>original_hm</th>\n",
       "      <th>cleaned_hm</th>\n",
       "      <th>modified</th>\n",
       "      <th>num_sentence</th>\n",
       "      <th>ground_truth_category</th>\n",
       "      <th>predicted_category</th>\n",
       "    </tr>\n",
       "  </thead>\n",
       "  <tbody>\n",
       "    <tr>\n",
       "      <th>0</th>\n",
       "      <td>27673</td>\n",
       "      <td>2053</td>\n",
       "      <td>24h</td>\n",
       "      <td>I went on a successful date with someone I fel...</td>\n",
       "      <td>I went on a successful date with someone I fel...</td>\n",
       "      <td>True</td>\n",
       "      <td>1</td>\n",
       "      <td>NaN</td>\n",
       "      <td>affection</td>\n",
       "    </tr>\n",
       "    <tr>\n",
       "      <th>1</th>\n",
       "      <td>27674</td>\n",
       "      <td>2</td>\n",
       "      <td>24h</td>\n",
       "      <td>I was happy when my son got 90% marks in his e...</td>\n",
       "      <td>I was happy when my son got 90% marks in his e...</td>\n",
       "      <td>True</td>\n",
       "      <td>1</td>\n",
       "      <td>NaN</td>\n",
       "      <td>affection</td>\n",
       "    </tr>\n",
       "    <tr>\n",
       "      <th>2</th>\n",
       "      <td>27675</td>\n",
       "      <td>1936</td>\n",
       "      <td>24h</td>\n",
       "      <td>I went to the gym this morning and did yoga.</td>\n",
       "      <td>I went to the gym this morning and did yoga.</td>\n",
       "      <td>True</td>\n",
       "      <td>1</td>\n",
       "      <td>NaN</td>\n",
       "      <td>exercise</td>\n",
       "    </tr>\n",
       "    <tr>\n",
       "      <th>3</th>\n",
       "      <td>27676</td>\n",
       "      <td>206</td>\n",
       "      <td>24h</td>\n",
       "      <td>We had a serious talk with some friends of our...</td>\n",
       "      <td>We had a serious talk with some friends of our...</td>\n",
       "      <td>True</td>\n",
       "      <td>2</td>\n",
       "      <td>bonding</td>\n",
       "      <td>bonding</td>\n",
       "    </tr>\n",
       "    <tr>\n",
       "      <th>4</th>\n",
       "      <td>27677</td>\n",
       "      <td>6227</td>\n",
       "      <td>24h</td>\n",
       "      <td>I went with grandchildren to butterfly display...</td>\n",
       "      <td>I went with grandchildren to butterfly display...</td>\n",
       "      <td>True</td>\n",
       "      <td>1</td>\n",
       "      <td>NaN</td>\n",
       "      <td>affection</td>\n",
       "    </tr>\n",
       "  </tbody>\n",
       "</table>\n",
       "</div>"
      ],
      "text/plain": [
       "    hmid   wid reflection_period  \\\n",
       "0  27673  2053               24h   \n",
       "1  27674     2               24h   \n",
       "2  27675  1936               24h   \n",
       "3  27676   206               24h   \n",
       "4  27677  6227               24h   \n",
       "\n",
       "                                         original_hm  \\\n",
       "0  I went on a successful date with someone I fel...   \n",
       "1  I was happy when my son got 90% marks in his e...   \n",
       "2       I went to the gym this morning and did yoga.   \n",
       "3  We had a serious talk with some friends of our...   \n",
       "4  I went with grandchildren to butterfly display...   \n",
       "\n",
       "                                          cleaned_hm  modified  num_sentence  \\\n",
       "0  I went on a successful date with someone I fel...      True             1   \n",
       "1  I was happy when my son got 90% marks in his e...      True             1   \n",
       "2       I went to the gym this morning and did yoga.      True             1   \n",
       "3  We had a serious talk with some friends of our...      True             2   \n",
       "4  I went with grandchildren to butterfly display...      True             1   \n",
       "\n",
       "  ground_truth_category predicted_category  \n",
       "0                   NaN          affection  \n",
       "1                   NaN          affection  \n",
       "2                   NaN           exercise  \n",
       "3               bonding            bonding  \n",
       "4                   NaN          affection  "
      ]
     },
     "execution_count": 2,
     "metadata": {},
     "output_type": "execute_result"
    }
   ],
   "source": [
    "cleaned_hm = pd.read_csv(\"/Users/stephanie/ADS/Projects_StarterCodes/Project1-RNotebook/data/cleaned_hm.csv\")\n",
    "# Show the first 5 rows of this dataframe\n",
    "cleaned_hm.head() "
   ]
  },
  {
   "cell_type": "code",
   "execution_count": 3,
   "id": "ceee4efc",
   "metadata": {},
   "outputs": [
    {
     "data": {
      "text/html": [
       "<div>\n",
       "<style scoped>\n",
       "    .dataframe tbody tr th:only-of-type {\n",
       "        vertical-align: middle;\n",
       "    }\n",
       "\n",
       "    .dataframe tbody tr th {\n",
       "        vertical-align: top;\n",
       "    }\n",
       "\n",
       "    .dataframe thead th {\n",
       "        text-align: right;\n",
       "    }\n",
       "</style>\n",
       "<table border=\"1\" class=\"dataframe\">\n",
       "  <thead>\n",
       "    <tr style=\"text-align: right;\">\n",
       "      <th></th>\n",
       "      <th>wid</th>\n",
       "      <th>age</th>\n",
       "      <th>country</th>\n",
       "      <th>gender</th>\n",
       "      <th>marital</th>\n",
       "      <th>parenthood</th>\n",
       "    </tr>\n",
       "  </thead>\n",
       "  <tbody>\n",
       "    <tr>\n",
       "      <th>0</th>\n",
       "      <td>1</td>\n",
       "      <td>37.0</td>\n",
       "      <td>USA</td>\n",
       "      <td>m</td>\n",
       "      <td>married</td>\n",
       "      <td>y</td>\n",
       "    </tr>\n",
       "    <tr>\n",
       "      <th>1</th>\n",
       "      <td>2</td>\n",
       "      <td>29.0</td>\n",
       "      <td>IND</td>\n",
       "      <td>m</td>\n",
       "      <td>married</td>\n",
       "      <td>y</td>\n",
       "    </tr>\n",
       "    <tr>\n",
       "      <th>2</th>\n",
       "      <td>3</td>\n",
       "      <td>25</td>\n",
       "      <td>IND</td>\n",
       "      <td>m</td>\n",
       "      <td>single</td>\n",
       "      <td>n</td>\n",
       "    </tr>\n",
       "    <tr>\n",
       "      <th>3</th>\n",
       "      <td>4</td>\n",
       "      <td>32</td>\n",
       "      <td>USA</td>\n",
       "      <td>m</td>\n",
       "      <td>married</td>\n",
       "      <td>y</td>\n",
       "    </tr>\n",
       "    <tr>\n",
       "      <th>4</th>\n",
       "      <td>5</td>\n",
       "      <td>29</td>\n",
       "      <td>USA</td>\n",
       "      <td>m</td>\n",
       "      <td>married</td>\n",
       "      <td>y</td>\n",
       "    </tr>\n",
       "  </tbody>\n",
       "</table>\n",
       "</div>"
      ],
      "text/plain": [
       "   wid   age country gender  marital parenthood\n",
       "0    1  37.0     USA      m  married          y\n",
       "1    2  29.0     IND      m  married          y\n",
       "2    3    25     IND      m   single          n\n",
       "3    4    32     USA      m  married          y\n",
       "4    5    29     USA      m  married          y"
      ]
     },
     "execution_count": 3,
     "metadata": {},
     "output_type": "execute_result"
    }
   ],
   "source": [
    "demographic = pd.read_csv(\"/Users/stephanie/ADS/Projects_StarterCodes/Project1-RNotebook/data/demographic.csv\")\n",
    "# Show the first 5 rows of the dataframe\n",
    "demographic.head() "
   ]
  },
  {
   "cell_type": "markdown",
   "id": "8bd09ee6",
   "metadata": {},
   "source": [
    "2. Topic Datasets"
   ]
  },
  {
   "cell_type": "code",
   "execution_count": 4,
   "id": "7f665358",
   "metadata": {},
   "outputs": [],
   "source": [
    "entertainment = pd.read_csv(\"/Users/stephanie/ADS/Projects_StarterCodes/Project1-RNotebook/data/entertainment-dict.csv\")\n",
    "exercise = pd.read_csv(\"/Users/stephanie/ADS/Projects_StarterCodes/Project1-RNotebook/data/exercise-dict.csv\")\n",
    "family = pd.read_csv(\"/Users/stephanie/ADS/Projects_StarterCodes/Project1-RNotebook/data/family-dict.csv\")\n",
    "food = pd.read_csv(\"/Users/stephanie/ADS/Projects_StarterCodes/Project1-RNotebook/data/food-dict.csv\")\n",
    "people = pd.read_csv(\"/Users/stephanie/ADS/Projects_StarterCodes/Project1-RNotebook/data/people-dict.csv\")\n",
    "pets = pd.read_csv(\"/Users/stephanie/ADS/Projects_StarterCodes/Project1-RNotebook/data/pets-dict.csv\")\n",
    "school = pd.read_csv(\"/Users/stephanie/ADS/Projects_StarterCodes/Project1-RNotebook/data/school-dict.csv\")\n",
    "shopping = pd.read_csv(\"/Users/stephanie/ADS/Projects_StarterCodes/Project1-RNotebook/data/shopping-dict.csv\")\n",
    "work = pd.read_csv(\"/Users/stephanie/ADS/Projects_StarterCodes/Project1-RNotebook/data/work-dict.csv\")"
   ]
  },
  {
   "cell_type": "markdown",
   "id": "bddddb81",
   "metadata": {},
   "source": [
    "### Data Cleaning and Preprocessing"
   ]
  },
  {
   "cell_type": "markdown",
   "id": "99478c9d",
   "metadata": {},
   "source": [
    "1. Clean the Demographic Dataframe"
   ]
  },
  {
   "cell_type": "code",
   "execution_count": 5,
   "id": "104f1cfa",
   "metadata": {},
   "outputs": [],
   "source": [
    "# Ages are represented inconsistently, with some being integers and others including decimals. \n",
    "# To ensure uniformity, convert the age to float --> integer & remove any decimals. \n",
    "def convert_age_to_integer(age):\n",
    "    try:\n",
    "        age = int(float(age))\n",
    "    except ValueError:\n",
    "        # If conversion fails, return None\n",
    "        return None\n",
    "    return age\n",
    "\n",
    "demographic['age'] = demographic['age'].apply(convert_age_to_integer)\n",
    "\n",
    "# Remove rows with None in Age column\n",
    "demographic = demographic.dropna(subset=['age'])"
   ]
  },
  {
   "cell_type": "code",
   "execution_count": 6,
   "id": "653511c2",
   "metadata": {},
   "outputs": [],
   "source": [
    "# Filter the Demographic DataFrame to keep only rows with \n",
    "#'marital' as 'married', 'country' as 'USA', and 'parenthood' as 'n'\n",
    "demographic = demographic[(demographic['marital'] == 'married') & (demographic['country'] == 'USA') & (demographic['parenthood'] == 'n')]"
   ]
  },
  {
   "cell_type": "markdown",
   "id": "f3a1a7f4",
   "metadata": {},
   "source": [
    "2. Clean the Cleaned_hm Dataframe"
   ]
  },
  {
   "cell_type": "code",
   "execution_count": 7,
   "id": "d58172d7",
   "metadata": {},
   "outputs": [],
   "source": [
    "#Remove unnecessary columns in cleaned_hm\n",
    "cleaned_hm = cleaned_hm.drop(columns=['original_hm', 'modified', 'num_sentence', 'ground_truth_category'])"
   ]
  },
  {
   "cell_type": "code",
   "execution_count": 8,
   "id": "4409b983",
   "metadata": {},
   "outputs": [],
   "source": [
    "# Merge Cleaned_hm and Demographic DataFrames\n",
    "df_cd = pd.merge(cleaned_hm,demographic)"
   ]
  },
  {
   "cell_type": "code",
   "execution_count": 9,
   "id": "c967f9f3",
   "metadata": {},
   "outputs": [
    {
     "data": {
      "text/html": [
       "<div>\n",
       "<style scoped>\n",
       "    .dataframe tbody tr th:only-of-type {\n",
       "        vertical-align: middle;\n",
       "    }\n",
       "\n",
       "    .dataframe tbody tr th {\n",
       "        vertical-align: top;\n",
       "    }\n",
       "\n",
       "    .dataframe thead th {\n",
       "        text-align: right;\n",
       "    }\n",
       "</style>\n",
       "<table border=\"1\" class=\"dataframe\">\n",
       "  <thead>\n",
       "    <tr style=\"text-align: right;\">\n",
       "      <th></th>\n",
       "      <th>hmid</th>\n",
       "      <th>wid</th>\n",
       "      <th>reflection_period</th>\n",
       "      <th>cleaned_hm</th>\n",
       "      <th>predicted_category</th>\n",
       "      <th>age</th>\n",
       "      <th>country</th>\n",
       "      <th>gender</th>\n",
       "      <th>marital</th>\n",
       "      <th>parenthood</th>\n",
       "    </tr>\n",
       "  </thead>\n",
       "  <tbody>\n",
       "    <tr>\n",
       "      <th>0</th>\n",
       "      <td>27699</td>\n",
       "      <td>156</td>\n",
       "      <td>24h</td>\n",
       "      <td>I napped with my husband on the bed this after...</td>\n",
       "      <td>affection</td>\n",
       "      <td>47.0</td>\n",
       "      <td>USA</td>\n",
       "      <td>f</td>\n",
       "      <td>married</td>\n",
       "      <td>n</td>\n",
       "    </tr>\n",
       "    <tr>\n",
       "      <th>1</th>\n",
       "      <td>27899</td>\n",
       "      <td>156</td>\n",
       "      <td>24h</td>\n",
       "      <td>My mother-in-law offered me money so I could b...</td>\n",
       "      <td>affection</td>\n",
       "      <td>47.0</td>\n",
       "      <td>USA</td>\n",
       "      <td>f</td>\n",
       "      <td>married</td>\n",
       "      <td>n</td>\n",
       "    </tr>\n",
       "    <tr>\n",
       "      <th>2</th>\n",
       "      <td>28099</td>\n",
       "      <td>156</td>\n",
       "      <td>24h</td>\n",
       "      <td>I've been thinking about dreams, life and deat...</td>\n",
       "      <td>enjoy_the_moment</td>\n",
       "      <td>47.0</td>\n",
       "      <td>USA</td>\n",
       "      <td>f</td>\n",
       "      <td>married</td>\n",
       "      <td>n</td>\n",
       "    </tr>\n",
       "    <tr>\n",
       "      <th>3</th>\n",
       "      <td>37561</td>\n",
       "      <td>156</td>\n",
       "      <td>24h</td>\n",
       "      <td>I've watched the movie \"Moana\" and it made me ...</td>\n",
       "      <td>enjoy_the_moment</td>\n",
       "      <td>47.0</td>\n",
       "      <td>USA</td>\n",
       "      <td>f</td>\n",
       "      <td>married</td>\n",
       "      <td>n</td>\n",
       "    </tr>\n",
       "    <tr>\n",
       "      <th>4</th>\n",
       "      <td>38560</td>\n",
       "      <td>156</td>\n",
       "      <td>24h</td>\n",
       "      <td>I found a new way to introduced my main male c...</td>\n",
       "      <td>achievement</td>\n",
       "      <td>47.0</td>\n",
       "      <td>USA</td>\n",
       "      <td>f</td>\n",
       "      <td>married</td>\n",
       "      <td>n</td>\n",
       "    </tr>\n",
       "  </tbody>\n",
       "</table>\n",
       "</div>"
      ],
      "text/plain": [
       "    hmid  wid reflection_period  \\\n",
       "0  27699  156               24h   \n",
       "1  27899  156               24h   \n",
       "2  28099  156               24h   \n",
       "3  37561  156               24h   \n",
       "4  38560  156               24h   \n",
       "\n",
       "                                          cleaned_hm predicted_category   age  \\\n",
       "0  I napped with my husband on the bed this after...          affection  47.0   \n",
       "1  My mother-in-law offered me money so I could b...          affection  47.0   \n",
       "2  I've been thinking about dreams, life and deat...   enjoy_the_moment  47.0   \n",
       "3  I've watched the movie \"Moana\" and it made me ...   enjoy_the_moment  47.0   \n",
       "4  I found a new way to introduced my main male c...        achievement  47.0   \n",
       "\n",
       "  country gender  marital parenthood  \n",
       "0     USA      f  married          n  \n",
       "1     USA      f  married          n  \n",
       "2     USA      f  married          n  \n",
       "3     USA      f  married          n  \n",
       "4     USA      f  married          n  "
      ]
     },
     "execution_count": 9,
     "metadata": {},
     "output_type": "execute_result"
    }
   ],
   "source": [
    "df_cd.head(5)"
   ]
  },
  {
   "cell_type": "code",
   "execution_count": null,
   "id": "db6c7fe2",
   "metadata": {},
   "outputs": [],
   "source": []
  },
  {
   "cell_type": "code",
   "execution_count": null,
   "id": "32d61a4e",
   "metadata": {},
   "outputs": [],
   "source": []
  },
  {
   "cell_type": "code",
   "execution_count": null,
   "id": "2e35180c",
   "metadata": {},
   "outputs": [],
   "source": []
  },
  {
   "cell_type": "code",
   "execution_count": null,
   "id": "e9c08573",
   "metadata": {},
   "outputs": [],
   "source": []
  },
  {
   "cell_type": "code",
   "execution_count": null,
   "id": "e70209b4",
   "metadata": {},
   "outputs": [],
   "source": []
  },
  {
   "cell_type": "code",
   "execution_count": null,
   "id": "6e5e5e93",
   "metadata": {},
   "outputs": [],
   "source": []
  },
  {
   "cell_type": "code",
   "execution_count": null,
   "id": "cdfb6d6d",
   "metadata": {},
   "outputs": [],
   "source": []
  },
  {
   "cell_type": "code",
   "execution_count": 6,
   "id": "3303b337",
   "metadata": {},
   "outputs": [
    {
     "name": "stdout",
     "output_type": "stream",
     "text": [
      "\n",
      "Number of people in each age group:\n",
      "age\n",
      "29.0    73\n",
      "26.0    71\n",
      "30.0    65\n",
      "27.0    65\n",
      "25.0    62\n",
      "31.0    61\n",
      "32.0    55\n",
      "33.0    54\n",
      "28.0    43\n",
      "24.0    41\n",
      "34.0    36\n",
      "36.0    34\n",
      "35.0    28\n",
      "23.0    25\n",
      "38.0    22\n",
      "Name: count, dtype: int64\n"
     ]
    }
   ],
   "source": [
    "## Identify the age group that responded the most\n",
    "age_counts = demographic['age'].value_counts().sort_values(ascending=False).head(15)\n",
    "print(\"\\nNumber of people in each age group:\")\n",
    "print(age_counts)"
   ]
  },
  {
   "cell_type": "code",
   "execution_count": null,
   "id": "b665f692",
   "metadata": {},
   "outputs": [],
   "source": []
  }
 ],
 "metadata": {
  "kernelspec": {
   "display_name": "Python 3 (ipykernel)",
   "language": "python",
   "name": "python3"
  },
  "language_info": {
   "codemirror_mode": {
    "name": "ipython",
    "version": 3
   },
   "file_extension": ".py",
   "mimetype": "text/x-python",
   "name": "python",
   "nbconvert_exporter": "python",
   "pygments_lexer": "ipython3",
   "version": "3.11.5"
  }
 },
 "nbformat": 4,
 "nbformat_minor": 5
}
